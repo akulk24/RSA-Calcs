{
  "nbformat": 4,
  "nbformat_minor": 0,
  "metadata": {
    "colab": {
      "provenance": []
    },
    "kernelspec": {
      "name": "python3",
      "display_name": "Python 3"
    },
    "language_info": {
      "name": "python"
    }
  },
  "cells": [
    {
      "cell_type": "code",
      "execution_count": 7,
      "metadata": {
        "colab": {
          "base_uri": "https://localhost:8080/"
        },
        "id": "Zu4Fup_BHVyD",
        "outputId": "b78f8b66-3c98-4965-90f0-13a7eab7e7ca"
      },
      "outputs": [
        {
          "output_type": "stream",
          "name": "stdout",
          "text": [
            "    Unnamed: 0        SPHERECON                  Unnamed: 2  \\\n",
            "0      Residue  SphereCon value  Buried/Exposed (RSA = 16%)   \n",
            "1      2 A THR         0.536031                     Exposed   \n",
            "2      3 A LEU         0.211357                     Exposed   \n",
            "3      4 A GLU          0.46079                     Exposed   \n",
            "4      5 A LYS         0.117172                      Buried   \n",
            "..         ...              ...                         ...   \n",
            "502  510 A ASP         0.501643                     Exposed   \n",
            "503        NaN              NaN                         NaN   \n",
            "504        NaN              NaN                         NaN   \n",
            "505        NaN              NaN                         NaN   \n",
            "506        NaN              NaN                         NaN   \n",
            "\n",
            "               Unnamed: 3                  Unnamed: 4            Unnamed: 5  \\\n",
            "0    Matches Up with Vis?  Buried/Exposed (RSA = 27%)  Matches Up with Vis?   \n",
            "1                    TRUE                     Exposed                  TRUE   \n",
            "2                    TRUE                      Buried                 FALSE   \n",
            "3                    TRUE                     Exposed                  TRUE   \n",
            "4                   FALSE                      Buried                 FALSE   \n",
            "..                    ...                         ...                   ...   \n",
            "502                  TRUE                     Exposed                  TRUE   \n",
            "503       TOTAL MATCH #:                          NaN       TOTAL MATCH #:    \n",
            "504                   298                         NaN                   233   \n",
            "505              % MATCH:                         NaN              % MATCH:   \n",
            "506              0.593625                         NaN              0.464143   \n",
            "\n",
            "                       Unnamed: 6 Unnamed: 7 Unnamed: 8  \\\n",
            "0    Exposed/Buried Based on Vis.  Count (D)  Count (F)   \n",
            "1                         Exposed          1          1   \n",
            "2                         Exposed          1          0   \n",
            "3                         Exposed          1          1   \n",
            "4                         Exposed          0          0   \n",
            "..                            ...        ...        ...   \n",
            "502                       Exposed          1          1   \n",
            "503                           NaN        298        233   \n",
            "504                           NaN        NaN        NaN   \n",
            "505                           NaN        NaN        NaN   \n",
            "506                           NaN        NaN        NaN   \n",
            "\n",
            "                           Unnamed: 9               Unnamed: 10  \\\n",
            "0              Bondugula Switch Class      Switch vs. B/E (16%)   \n",
            "1                                   0  Exposed and Not a Switch   \n",
            "2                                   0  Exposed and Not a Switch   \n",
            "3                                   0  Exposed and Not a Switch   \n",
            "4                                   0   Buried and Not a Switch   \n",
            "..                                ...                       ...   \n",
            "502                                 1      Exposed and a Switch   \n",
            "503      # OF \"EXPOSED AND A SWITCH\":                       162   \n",
            "504  # OF \"EXPOSED AND NOT A SWITCH\":                        42   \n",
            "505   # OF \"BURIED AND NOT A SWITCH\":                        65   \n",
            "506       # OF \"BURIED AND A SWITCH\":                       233   \n",
            "\n",
            "                  Unnamed: 11  \n",
            "0        Switch vs. B/E (27%)  \n",
            "1    Exposed and Not a Switch  \n",
            "2     Buried and Not a Switch  \n",
            "3    Exposed and Not a Switch  \n",
            "4     Buried and Not a Switch  \n",
            "..                        ...  \n",
            "502      Exposed and a Switch  \n",
            "503                       110  \n",
            "504                        27  \n",
            "505                        80  \n",
            "506                       285  \n",
            "\n",
            "[507 rows x 12 columns]\n"
          ]
        }
      ],
      "source": [
        "import pandas as pd\n",
        "\n",
        "#REFERENCE: https://stackoverflow.com/questions/19611729/getting-google-spreadsheet-csv-into-a-pandas-dataframe/35246041#35246041\n",
        "\n",
        "# Create a public URL\n",
        "#https://docs.google.com/spreadsheets/d/1bu0VqAK1CqQSz8Df2xcRnmOfrTXtdzyghV945JzArbE/edit?usp=sharing\n",
        "\n",
        "# Get spreadsheets key from URL\n",
        "gsheetkey = \"1bu0VqAK1CqQSz8Df2xcRnmOfrTXtdzyghV945JzArbE\"\n",
        "\n",
        "# Sheet name (many sheets in my spreadsheet; have to go on a sheet-by-sheet basis)\n",
        "sheet_name = 'SphereCon'\n",
        "\n",
        "url=f'https://docs.google.com/spreadsheet/ccc?key={gsheetkey}&output=xlsx'\n",
        "df = pd.read_excel(url,sheet_name=sheet_name)\n",
        "print(df)"
      ]
    },
    {
      "cell_type": "code",
      "source": [],
      "metadata": {
        "id": "f-dBZOIOLC59"
      },
      "execution_count": null,
      "outputs": []
    }
  ]
}